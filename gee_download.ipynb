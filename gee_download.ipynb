{
  "nbformat": 4,
  "nbformat_minor": 0,
  "metadata": {
    "colab": {
      "name": "gee_download.ipynb",
      "provenance": [],
      "include_colab_link": true
    },
    "kernelspec": {
      "name": "python3",
      "display_name": "Python 3"
    },
    "language_info": {
      "name": "python"
    }
  },
  "cells": [
    {
      "cell_type": "markdown",
      "metadata": {
        "id": "view-in-github",
        "colab_type": "text"
      },
      "source": [
        "<a href=\"https://colab.research.google.com/github/prerana-1601/mangrove_detection/blob/main/gee_download.ipynb\" target=\"_parent\"><img src=\"https://colab.research.google.com/assets/colab-badge.svg\" alt=\"Open In Colab\"/></a>"
      ]
    },
    {
      "cell_type": "code",
      "metadata": {
        "id": "x3sGNTKhwueQ"
      },
      "source": [
        "#installing google earth engine for colab\n",
        "!pip install earthengine-api"
      ],
      "execution_count": null,
      "outputs": []
    },
    {
      "cell_type": "code",
      "metadata": {
        "colab": {
          "base_uri": "https://localhost:8080/"
        },
        "id": "mG240bYOw77X",
        "outputId": "06c43921-bf5a-48c1-fe40-1e6cc28d0e3b"
      },
      "source": [
        "#importing gee\n",
        "import ee\n",
        "#linking and authenticating your google earth engine account\n",
        "try:\n",
        "  ee.Initialize()\n",
        "except ee.EEException:\n",
        "  !earthengine authenticate"
      ],
      "execution_count": null,
      "outputs": [
        {
          "output_type": "stream",
          "text": [
            "WARNING:tensorflow:From /usr/local/lib/python3.7/dist-packages/tensorflow/python/compat/v2_compat.py:96: disable_resource_variables (from tensorflow.python.ops.variable_scope) is deprecated and will be removed in a future version.\n",
            "Instructions for updating:\n",
            "non-resource variables are not supported in the long term\n",
            "To authorize access needed by Earth Engine, open the following URL in a web browser and follow the instructions. If the web browser does not start automatically, please manually browse the URL below.\n",
            "\n",
            "    https://accounts.google.com/o/oauth2/auth?client_id=517222506229-vsmmajv00ul0bs7p89v5m89qs8eb9359.apps.googleusercontent.com&scope=https%3A%2F%2Fwww.googleapis.com%2Fauth%2Fearthengine+https%3A%2F%2Fwww.googleapis.com%2Fauth%2Fdevstorage.full_control&redirect_uri=urn%3Aietf%3Awg%3Aoauth%3A2.0%3Aoob&response_type=code&code_challenge=25hu2AO6kvMmwjM6FTvHLsH86NRHAffcc1WorKI1SW4&code_challenge_method=S256\n",
            "\n",
            "The authorization workflow will generate a code, which you should paste in the box below. \n",
            "Enter verification code: 4/1AX4XfWjtk_205jLpeWIPDWROluFItvMxQQOB4HpTQLI0aDrnY5i-ABXLDcY\n",
            "\n",
            "Successfully saved authorization token.\n"
          ],
          "name": "stdout"
        }
      ]
    },
    {
      "cell_type": "code",
      "metadata": {
        "colab": {
          "base_uri": "https://localhost:8080/"
        },
        "id": "Bnpx7G_PxHCb",
        "outputId": "69675a4b-490e-4355-fc0d-112a99318804"
      },
      "source": [
        "#linking and authenticating your google drive\n",
        "from google.colab import drive\n",
        "drive.mount('/content/drive')"
      ],
      "execution_count": 2,
      "outputs": [
        {
          "output_type": "stream",
          "text": [
            "Mounted at /content/drive\n"
          ],
          "name": "stdout"
        }
      ]
    },
    {
      "cell_type": "code",
      "metadata": {
        "id": "QQMFidBexSVY"
      },
      "source": [
        "#importing the necessary libraries\n",
        "import datetime\n",
        "import json\n",
        "import numpy as np\n",
        "import cv2\n",
        "import matplotlib.pyplot as plt"
      ],
      "execution_count": 3,
      "outputs": []
    },
    {
      "cell_type": "code",
      "metadata": {
        "id": "1_LPALupxj76"
      },
      "source": [
        "#loading the required json file for clipping\n",
        "with open('drive/My Drive/Capstone/colab_json/Goa_AoI_clip_v2.json') as f:\n",
        "    data  = json.load(f)\n"
      ],
      "execution_count": 4,
      "outputs": []
    },
    {
      "cell_type": "code",
      "metadata": {
        "id": "qLnGOxcBz-K4"
      },
      "source": [
        "#loading the coordinates from the json file\n",
        "ee.Initialize()\n",
        "area = ee.Geometry.Polygon(data['features'][0]['geometry']['coordinates'])"
      ],
      "execution_count": null,
      "outputs": []
    },
    {
      "cell_type": "code",
      "metadata": {
        "colab": {
          "base_uri": "https://localhost:8080/"
        },
        "id": "TQXB7cZDRr5v",
        "outputId": "2b2f2272-ec73-4c66-f5a5-184b4b76574b"
      },
      "source": [
        "#checking if the coordinates are loaded correctly\n",
        "print(data['features'][0]['geometry']['coordinates'])"
      ],
      "execution_count": null,
      "outputs": [
        {
          "output_type": "stream",
          "text": [
            "[[[73.635694820203, 15.049053992765844], [74.07812582813627, 15.051281605690505], [74.0745911811332, 15.849469218043994], [73.630464886295, 15.847117610414207], [73.635694820203, 15.049053992765844]]]\n"
          ],
          "name": "stdout"
        }
      ]
    },
    {
      "cell_type": "code",
      "metadata": {
        "id": "cxDT0YhNb2Fa"
      },
      "source": [
        "#landsat_eg = ee.Image('LANDSAT/LC08/C01/T1_TOA/LC08_137044_20210629')\\\n",
        "#            .select(['B4', 'B3', 'B2', 'B1', 'B5', 'B6', 'B7'])\n",
        "#FORMAT FOR ABOVE EXAMPLE : storing the loaded landsat image in variable landsat_eg\n",
        "#                         : 'LANDSAT/LC08/C01/T1_TOA/LC08_137044_20210629' where WRS path=137; WRS row=044; YYYYMMDD=20210629(Note: make sure the dates match with the dates on which landsat images were captures)\n",
        "#                         : .select(['B4', 'B3', 'B2', 'B1', 'B5', 'B6', 'B7']) in select the bands we wish to download is mentioned\n",
        "landsat1 = ee.Image('LANDSAT/LC08/C01/T1_TOA/LC08_146049_20210503')\\\n",
        "            .select(['B2'])\n",
        "landsat2 = ee.Image('LANDSAT/LC08/C01/T1_TOA/LC08_147049_20210203')\\\n",
        "            .select(['B2'])\n",
        "landsat3 = ee.Image('LANDSAT/LC08/C01/T1_TOA/LC08_146050_20210503')\\\n",
        "            .select(['B2'])\n",
        "landsat4 = ee.Image('LANDSAT/LC08/C01/T1_TOA/LC08_147050_20210203')\\\n",
        "            .select(['B2'])\n",
        "#stiching of 4 landsat images using the mosaic function\n",
        "landsat = ee.ImageCollection([landsat1, landsat2, landsat3, landsat4]).mosaic()\n"
      ],
      "execution_count": null,
      "outputs": []
    },
    {
      "cell_type": "code",
      "metadata": {
        "id": "WoD6jbpujVXY"
      },
      "source": [
        "#the mosaic is clipped to obtain the area of interest using the coordinates extracted fron the json files\n",
        "img = ee.Image(landsat).clip(area)"
      ],
      "execution_count": null,
      "outputs": []
    },
    {
      "cell_type": "code",
      "metadata": {
        "id": "5QFGtVcfgM1m"
      },
      "source": [
        "#exporting our area of interest to our linked google drive\n",
        "task = ee.batch.Export.image.toDrive(**{\n",
        "    'image': img,\n",
        "    'description': 'goa_b2',\n",
        "    'folder':'goa',\n",
        "    'scale': 30,\n",
        "    'region': area.getInfo()['coordinates']\n",
        "})\n",
        "task.start()"
      ],
      "execution_count": null,
      "outputs": []
    },
    {
      "cell_type": "code",
      "metadata": {
        "colab": {
          "base_uri": "https://localhost:8080/"
        },
        "id": "_xIe_ujdgQzC",
        "outputId": "7301d230-f22d-4117-8323-c1b31e1296cf"
      },
      "source": [
        "#tif files being uploade to google drive\n",
        "import time \n",
        "while task.active():\n",
        "  print('Polling for task (id: {}).'.format(task.id))\n",
        "  time.sleep(5)"
      ],
      "execution_count": null,
      "outputs": [
        {
          "output_type": "stream",
          "text": [
            "Polling for task (id: 7YNXI2PIVEL7RNZMZM5NQ2SD).\n",
            "Polling for task (id: 7YNXI2PIVEL7RNZMZM5NQ2SD).\n",
            "Polling for task (id: 7YNXI2PIVEL7RNZMZM5NQ2SD).\n",
            "Polling for task (id: 7YNXI2PIVEL7RNZMZM5NQ2SD).\n",
            "Polling for task (id: 7YNXI2PIVEL7RNZMZM5NQ2SD).\n",
            "Polling for task (id: 7YNXI2PIVEL7RNZMZM5NQ2SD).\n",
            "Polling for task (id: 7YNXI2PIVEL7RNZMZM5NQ2SD).\n",
            "Polling for task (id: 7YNXI2PIVEL7RNZMZM5NQ2SD).\n",
            "Polling for task (id: 7YNXI2PIVEL7RNZMZM5NQ2SD).\n",
            "Polling for task (id: 7YNXI2PIVEL7RNZMZM5NQ2SD).\n",
            "Polling for task (id: 7YNXI2PIVEL7RNZMZM5NQ2SD).\n",
            "Polling for task (id: 7YNXI2PIVEL7RNZMZM5NQ2SD).\n",
            "Polling for task (id: 7YNXI2PIVEL7RNZMZM5NQ2SD).\n",
            "Polling for task (id: 7YNXI2PIVEL7RNZMZM5NQ2SD).\n",
            "Polling for task (id: 7YNXI2PIVEL7RNZMZM5NQ2SD).\n",
            "Polling for task (id: 7YNXI2PIVEL7RNZMZM5NQ2SD).\n",
            "Polling for task (id: 7YNXI2PIVEL7RNZMZM5NQ2SD).\n",
            "Polling for task (id: 7YNXI2PIVEL7RNZMZM5NQ2SD).\n",
            "Polling for task (id: 7YNXI2PIVEL7RNZMZM5NQ2SD).\n",
            "Polling for task (id: 7YNXI2PIVEL7RNZMZM5NQ2SD).\n",
            "Polling for task (id: 7YNXI2PIVEL7RNZMZM5NQ2SD).\n",
            "Polling for task (id: 7YNXI2PIVEL7RNZMZM5NQ2SD).\n",
            "Polling for task (id: 7YNXI2PIVEL7RNZMZM5NQ2SD).\n",
            "Polling for task (id: 7YNXI2PIVEL7RNZMZM5NQ2SD).\n",
            "Polling for task (id: 7YNXI2PIVEL7RNZMZM5NQ2SD).\n",
            "Polling for task (id: 7YNXI2PIVEL7RNZMZM5NQ2SD).\n",
            "Polling for task (id: 7YNXI2PIVEL7RNZMZM5NQ2SD).\n",
            "Polling for task (id: 7YNXI2PIVEL7RNZMZM5NQ2SD).\n"
          ],
          "name": "stdout"
        }
      ]
    },
    {
      "cell_type": "code",
      "metadata": {
        "id": "fOrZqPyNhVWc"
      },
      "source": [
        ""
      ],
      "execution_count": null,
      "outputs": []
    }
  ]
}