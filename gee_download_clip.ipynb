{
  "nbformat": 4,
  "nbformat_minor": 0,
  "metadata": {
    "colab": {
      "name": "gj.ipynb",
      "provenance": [],
      "include_colab_link": true
    },
    "kernelspec": {
      "name": "python3",
      "display_name": "Python 3"
    },
    "language_info": {
      "name": "python"
    }
  },
  "cells": [
    {
      "cell_type": "markdown",
      "metadata": {
        "id": "view-in-github",
        "colab_type": "text"
      },
      "source": [
        "<a href=\"https://colab.research.google.com/github/prerana-1601/mangrove_detection/blob/main/gee_download_clip.ipynb\" target=\"_parent\"><img src=\"https://colab.research.google.com/assets/colab-badge.svg\" alt=\"Open In Colab\"/></a>"
      ]
    },
    {
      "cell_type": "code",
      "metadata": {
        "id": "x3sGNTKhwueQ"
      },
      "source": [
        "!pip install earthengine-api"
      ],
      "execution_count": null,
      "outputs": []
    },
    {
      "cell_type": "code",
      "metadata": {
        "id": "mG240bYOw77X"
      },
      "source": [
        "import ee\n",
        "try:\n",
        "  ee.Initialize()\n",
        "except ee.EEException:\n",
        "  !earthengine authenticate"
      ],
      "execution_count": null,
      "outputs": []
    },
    {
      "cell_type": "code",
      "metadata": {
        "colab": {
          "base_uri": "https://localhost:8080/"
        },
        "id": "Bnpx7G_PxHCb",
        "outputId": "788f26d6-539d-46f2-b8ed-8d610683fd93"
      },
      "source": [
        "from google.colab import drive\n",
        "drive.mount('/content/drive')"
      ],
      "execution_count": null,
      "outputs": [
        {
          "output_type": "stream",
          "text": [
            "Mounted at /content/drive\n"
          ],
          "name": "stdout"
        }
      ]
    },
    {
      "cell_type": "code",
      "metadata": {
        "id": "QQMFidBexSVY"
      },
      "source": [
        "import datetime\n",
        "import json\n",
        "import numpy as np\n",
        "import cv2\n",
        "import matplotlib.pyplot as plt"
      ],
      "execution_count": null,
      "outputs": []
    },
    {
      "cell_type": "code",
      "metadata": {
        "id": "1_LPALupxj76"
      },
      "source": [
        "with open('drive/My Drive/Capstone/colab_json/Goa_AoI_clip_v2.json') as f:\n",
        "    data  = json.load(f)\n"
      ],
      "execution_count": null,
      "outputs": []
    },
    {
      "cell_type": "code",
      "metadata": {
        "id": "qLnGOxcBz-K4"
      },
      "source": [
        "ee.Initialize()\n",
        "area = ee.Geometry.Polygon([[69.05589910559172,22.388886233168883],[69.05589910559172,22.806874180290368],[70.328628657515239,22.806874180290368],[70.328628657515239,22.388886233168883],[69.05589910559172,22.388886233168883]])"
      ],
      "execution_count": null,
      "outputs": []
    },
    {
      "cell_type": "code",
      "metadata": {
        "colab": {
          "base_uri": "https://localhost:8080/"
        },
        "id": "TQXB7cZDRr5v",
        "outputId": "2b2f2272-ec73-4c66-f5a5-184b4b76574b"
      },
      "source": [
        "print(data['features'][0]['geometry']['coordinates'])"
      ],
      "execution_count": null,
      "outputs": [
        {
          "output_type": "stream",
          "text": [
            "[[[73.635694820203, 15.049053992765844], [74.07812582813627, 15.051281605690505], [74.0745911811332, 15.849469218043994], [73.630464886295, 15.847117610414207], [73.635694820203, 15.049053992765844]]]\n"
          ],
          "name": "stdout"
        }
      ]
    },
    {
      "cell_type": "code",
      "metadata": {
        "id": "cxDT0YhNb2Fa"
      },
      "source": [
        "#landsat = ee.Image('LANDSAT/LC08/C01/T1_TOA/LC08_137044_20210629')\\\n",
        "#            .select(['B4', 'B3', 'B2', 'B1', 'B5', 'B6', 'B7'])\n",
        "#landsat = ee.Image('LANDSAT/LC08/C02/T2_TOA/LC08_147049_20210627')\\\n",
        "#            .select(['B4', 'B3', 'B2', 'B1', 'B5', 'B6', 'B7'])\n",
        "#landsat = ee.Image('LANDSAT/LC08/C01/T1_TOA/LC08_147049_20180227')\\\n",
        "#            .select(['B4', 'B3', 'B2', 'B1', 'B5', 'B6', 'B7'])\n",
        "landsat3 = ee.Image('LANDSAT/LC08/C01/T1_TOA/LC08_151044_20210215')\\\n",
        "            .select(['B2'])\n",
        "landsat1 = ee.Image('LANDSAT/LC08/C01/T1_TOA/LC08_150044_20210208')\\\n",
        "            .select(['B2'])\n",
        "landsat2 = ee.Image('LANDSAT/LC08/C01/T1_TOA/LC08_150045_20210208')\\\n",
        "            .select(['B2'])\n",
        "#landsat4 = ee.Image('LANDSAT/LC08/C01/T1_TOA/LC08_147050_20210203')\\\n",
        "#            .select(['B2'])\n",
        "\n",
        "#landsat = ee.ImageCollection([landsat1, landsat2, landsat3, landsat4]).mosaic()\n",
        "landsat = ee.ImageCollection([landsat1, landsat2, landsat3]).mosaic()\n"
      ],
      "execution_count": null,
      "outputs": []
    },
    {
      "cell_type": "code",
      "metadata": {
        "id": "WoD6jbpujVXY"
      },
      "source": [
        "img = ee.Image(landsat).clip(area)"
      ],
      "execution_count": null,
      "outputs": []
    },
    {
      "cell_type": "code",
      "metadata": {
        "id": "5QFGtVcfgM1m"
      },
      "source": [
        "task = ee.batch.Export.image.toDrive(**{\n",
        "    'image': img,\n",
        "    'description': 'gj_b2',\n",
        "    'folder':'gj',\n",
        "    'scale': 30,\n",
        "    'region': area.getInfo()['coordinates']\n",
        "})\n",
        "task.start()"
      ],
      "execution_count": null,
      "outputs": []
    },
    {
      "cell_type": "code",
      "metadata": {
        "colab": {
          "base_uri": "https://localhost:8080/"
        },
        "id": "_xIe_ujdgQzC",
        "outputId": "0191b04b-aa9e-46c4-9678-cf3c2e3e5dcd"
      },
      "source": [
        "import time \n",
        "while task.active():\n",
        "  print('Polling for task (id: {}).'.format(task.id))\n",
        "  time.sleep(5)"
      ],
      "execution_count": null,
      "outputs": [
        {
          "output_type": "stream",
          "text": [
            "Polling for task (id: 4WQVZPZYFXEIG44CEKCVUD33).\n",
            "Polling for task (id: 4WQVZPZYFXEIG44CEKCVUD33).\n",
            "Polling for task (id: 4WQVZPZYFXEIG44CEKCVUD33).\n",
            "Polling for task (id: 4WQVZPZYFXEIG44CEKCVUD33).\n",
            "Polling for task (id: 4WQVZPZYFXEIG44CEKCVUD33).\n",
            "Polling for task (id: 4WQVZPZYFXEIG44CEKCVUD33).\n",
            "Polling for task (id: 4WQVZPZYFXEIG44CEKCVUD33).\n",
            "Polling for task (id: 4WQVZPZYFXEIG44CEKCVUD33).\n",
            "Polling for task (id: 4WQVZPZYFXEIG44CEKCVUD33).\n",
            "Polling for task (id: 4WQVZPZYFXEIG44CEKCVUD33).\n",
            "Polling for task (id: 4WQVZPZYFXEIG44CEKCVUD33).\n",
            "Polling for task (id: 4WQVZPZYFXEIG44CEKCVUD33).\n",
            "Polling for task (id: 4WQVZPZYFXEIG44CEKCVUD33).\n",
            "Polling for task (id: 4WQVZPZYFXEIG44CEKCVUD33).\n",
            "Polling for task (id: 4WQVZPZYFXEIG44CEKCVUD33).\n",
            "Polling for task (id: 4WQVZPZYFXEIG44CEKCVUD33).\n",
            "Polling for task (id: 4WQVZPZYFXEIG44CEKCVUD33).\n",
            "Polling for task (id: 4WQVZPZYFXEIG44CEKCVUD33).\n",
            "Polling for task (id: 4WQVZPZYFXEIG44CEKCVUD33).\n",
            "Polling for task (id: 4WQVZPZYFXEIG44CEKCVUD33).\n",
            "Polling for task (id: 4WQVZPZYFXEIG44CEKCVUD33).\n",
            "Polling for task (id: 4WQVZPZYFXEIG44CEKCVUD33).\n",
            "Polling for task (id: 4WQVZPZYFXEIG44CEKCVUD33).\n",
            "Polling for task (id: 4WQVZPZYFXEIG44CEKCVUD33).\n",
            "Polling for task (id: 4WQVZPZYFXEIG44CEKCVUD33).\n",
            "Polling for task (id: 4WQVZPZYFXEIG44CEKCVUD33).\n",
            "Polling for task (id: 4WQVZPZYFXEIG44CEKCVUD33).\n",
            "Polling for task (id: 4WQVZPZYFXEIG44CEKCVUD33).\n",
            "Polling for task (id: 4WQVZPZYFXEIG44CEKCVUD33).\n",
            "Polling for task (id: 4WQVZPZYFXEIG44CEKCVUD33).\n",
            "Polling for task (id: 4WQVZPZYFXEIG44CEKCVUD33).\n",
            "Polling for task (id: 4WQVZPZYFXEIG44CEKCVUD33).\n",
            "Polling for task (id: 4WQVZPZYFXEIG44CEKCVUD33).\n",
            "Polling for task (id: 4WQVZPZYFXEIG44CEKCVUD33).\n",
            "Polling for task (id: 4WQVZPZYFXEIG44CEKCVUD33).\n",
            "Polling for task (id: 4WQVZPZYFXEIG44CEKCVUD33).\n",
            "Polling for task (id: 4WQVZPZYFXEIG44CEKCVUD33).\n",
            "Polling for task (id: 4WQVZPZYFXEIG44CEKCVUD33).\n",
            "Polling for task (id: 4WQVZPZYFXEIG44CEKCVUD33).\n",
            "Polling for task (id: 4WQVZPZYFXEIG44CEKCVUD33).\n"
          ],
          "name": "stdout"
        }
      ]
    },
    {
      "cell_type": "code",
      "metadata": {
        "id": "fOrZqPyNhVWc"
      },
      "source": [
        ""
      ],
      "execution_count": null,
      "outputs": []
    }
  ]
}